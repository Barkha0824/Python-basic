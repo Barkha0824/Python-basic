{
  "nbformat": 4,
  "nbformat_minor": 0,
  "metadata": {
    "colab": {
      "private_outputs": true,
      "provenance": []
    },
    "kernelspec": {
      "name": "python3",
      "display_name": "Python 3"
    },
    "language_info": {
      "name": "python"
    }
  },
  "cells": [
    {
      "cell_type": "code",
      "execution_count": null,
      "metadata": {
        "id": "yqlIYz2PgDkm"
      },
      "outputs": [],
      "source": []
    },
    {
      "cell_type": "code",
      "source": [],
      "metadata": {
        "id": "UQI6mIZqjPNF"
      },
      "execution_count": null,
      "outputs": []
    },
    {
      "cell_type": "markdown",
      "source": [
        "\n",
        "# Python basic questions\n",
        "\n",
        "    1 What is Python, and why is it popular?\n",
        "       \n",
        "       -  Python is a high-level, interpreted programming language known for its simplicity and readability. It is used in various fields, such as web development, data analysis, machine learning, automation, and more. Its popularity is due to its easy-to-understand syntax, vast library support, and large community of developers, making it an ideal choice for beginners and experienced developers alike.\n",
        "\n",
        "    2 What is an interpreter in Python?\n",
        "         - An interpreter in Python is a program that reads and executes the code line by line.\n",
        "\n",
        "   3  What are pre-defined keywords in Python?\n",
        "        \n",
        "        - Pre-defined keywords in Python are reserved words that have special meanings and cannot be used as variable names. like - if, else, etc.\n",
        "\n",
        "   4  Can keywords be used as variable names?\n",
        "       \n",
        "       -  No, keywords in Python cannot be used as variable names. Since keywords have special meanings in the language, they are reserved for specific functionality.\n",
        "\n",
        "   5 What is mutability in Python?\n",
        "        \n",
        "        - Mutability in Python refers to the ability of an object to be modified after it is created. example - list, set.\n",
        "\n",
        "   6  Why are lists mutable, but tuples are immutable?\n",
        "       \n",
        "       -  Lists are mutable because they are designed to allow changes to their elements (such as adding, removing, or modifying items).\n",
        "        Tuples, however, are immutable because their purpose is to represent fixed collections of items.\n",
        "\n",
        "   7  What is the difference between “==” and “is” operators in Python?\n",
        "       \n",
        "       -  == checks for equality, meaning it compares the values of two objects to see if they are the same.\n",
        "       -  is checks for identity, meaning it compares the memory addresses.\n",
        "\n",
        "   8  What are logical operators in Python?\n",
        "       \n",
        "       -  Logical operators in Python are used to perform logical operations on boolean values. These are and, or, not.\n",
        "\n",
        "   9  What is type casting in Python?\n",
        "       \n",
        "       -  Type casting is the process of converting one data type into another. for example - a = 5 - it is integer, float(a) - convert to float - 5.0 to check the type - type(a), type(b)\n",
        "\n",
        "   10  What is the difference between implicit and explicit type casting?\n",
        "\n",
        "    - Implicit type casting happens when Python automatically converts one data type to another without any explicit instruction. example - addation of int and float will be float. 5+0.5 = 5.5\n",
        "    Explicit type casting requires the programmer to manually convert one data type to another using functions like int(), float(), or str().\n",
        "\n",
        "   11  What is the purpose of conditional statements in Python?\n",
        "\n",
        "   -  Conditional statements in Python allow the execution of specific blocks of code based on certain conditions. These statements, such as if, elif, and else.\n",
        "\n",
        "   \n",
        "   12  How does the elif statement work?\n",
        "\n",
        "   -  The elif statement in Python is used to check multiple conditions. If the condition in the if statement is False, Python evaluates the elif condition. If the elif condition is True, its block of code will execute. If all if and elif conditions fail, the else block (if present) will execute.\n",
        "\n",
        "   \n",
        "   13  What is the difference between for and while loops?\n",
        "\n",
        "  - A for loop is typically used when you know the number of iterations in advance or when you are iterating over a collection (e.g., list, tuple, dictionary).\n",
        "   \n",
        "   - A while loop continues executing as long as the specified condition is True.\n",
        "\n",
        "  \n",
        "  14   Describe a scenario where a while loop is more suitable than a for loop?\n",
        "\n",
        "   - A while loop is more suitable when you don't know the exact number of iterations in advance and need to continue looping until a specific condition is met. For example, in a game, a while loop could be used to keep playing until the player chooses to quit.\n",
        "\n"
      ],
      "metadata": {
        "id": "bhGd1vVHgwm8"
      }
    },
    {
      "cell_type": "markdown",
      "source": [
        "# Practical Questions"
      ],
      "metadata": {
        "id": "X6Jg46hejY4i"
      }
    },
    {
      "cell_type": "code",
      "source": [
        "\n",
        "#  Write a Python program to print \"Hello, World!\n",
        "\n",
        "print(\"Hello, World!\")\n",
        ""
      ],
      "metadata": {
        "id": "GrurpjegjfLC"
      },
      "execution_count": null,
      "outputs": []
    },
    {
      "cell_type": "code",
      "source": [
        "# Write a Python program that displays your name and age.\n",
        "\n",
        "name = \"Barkha\"\n",
        "age = 24\n",
        "\n",
        "print(f\"my name is {name} and age is {age}\")"
      ],
      "metadata": {
        "id": "9ibIz_LHjah2"
      },
      "execution_count": null,
      "outputs": []
    },
    {
      "cell_type": "code",
      "source": [
        "# Write code to print all the pre-defined keywords in Python using the keyword library.\n",
        "\n",
        "import keyword\n",
        "\n",
        "print(\"python keywords:\")\n",
        "print(keyword.kwlist)"
      ],
      "metadata": {
        "id": "oCN1QojfkGqq"
      },
      "execution_count": null,
      "outputs": []
    },
    {
      "cell_type": "code",
      "source": [
        "# Write a program that checks if a given word is a Python keyword\n",
        "\n",
        "a = \"if\"\n",
        "\n",
        "print(keyword.iskeyword(a))\n",
        ""
      ],
      "metadata": {
        "id": "rju7RwB1kQne"
      },
      "execution_count": null,
      "outputs": []
    },
    {
      "cell_type": "code",
      "source": [
        "# Create a list and tuple in Python, and demonstrate how attempting to change an element works differently for each\n",
        "#List\n",
        "l = [5,5.0, True, \"BARKHA\"]\n",
        "print(type(l))\n",
        "print(l)\n",
        "l[0] = 3\n",
        "print(l)\n",
        "\n",
        "#tuple\n",
        "t = (5,5.0, True, \"BARKHA\")\n",
        "print(type(t))\n",
        "print(t)\n",
        "#t[0] = 3 # conversion as asked in question\n",
        "print(t)"
      ],
      "metadata": {
        "id": "lOI4vneSkU_o"
      },
      "execution_count": null,
      "outputs": []
    },
    {
      "cell_type": "code",
      "source": [
        "# Write a function to demonstrate the behavior of mutable and immutable arguments\n",
        "def demonstrate_mutability(immutable_arg, mutable_arg):\n",
        "    print(\"Before modification:\")\n",
        "    print(f\"Immutable argument: {immutable_arg}\")\n",
        "    print(f\"Mutable argument: {mutable_arg}\")\n",
        "\n",
        "    mutable_arg.append(100)\n",
        "    immutable_arg += 10\n",
        "\n",
        "    print(\"\\nAfter modification:\")\n",
        "    print(f\"Immutable argument: {immutable_arg}\")  # Integer reassigned\n",
        "    print(f\"Mutable argument: {mutable_arg}\")  # List modified\n",
        "\n",
        "num = 5  # Immutable argument (Integer)\n",
        "lst = [1, 2, 3]  # Mutable argument (List)\n",
        "\n",
        "demonstrate_mutability(num, lst)"
      ],
      "metadata": {
        "id": "-1NPVs0aksln"
      },
      "execution_count": null,
      "outputs": []
    },
    {
      "cell_type": "code",
      "source": [
        "# Write a program to demonstrate the use of logical operators\n",
        "\n",
        "a = \"BARKHA\"\n",
        "\n",
        "b = \"q\" not in a\n",
        "print(b)\n",
        ""
      ],
      "metadata": {
        "id": "pnKadi8ik71g"
      },
      "execution_count": null,
      "outputs": []
    },
    {
      "cell_type": "code",
      "source": [
        "# Write a Python program to convert user input from string to integer, float, and boolean types\n",
        "\n",
        "a = (input(\"Enter a number: \"))\n",
        "print(type(a))\n",
        "print(int(a))\n",
        "print(float(a))\n",
        "print(bool(a))"
      ],
      "metadata": {
        "id": "5rCan-6WoKuo"
      },
      "execution_count": null,
      "outputs": []
    },
    {
      "cell_type": "code",
      "source": [
        "# Write code to demonstrate type casting with list elements\n",
        "\n",
        "my_list = [1, '2', 3.0, True]\n",
        "\n",
        "# Type casting list elements\n",
        "new_list = []\n",
        "for element in my_list:\n",
        "  if type(element) == str:\n",
        "    new_list.append(int(element))  # Convert string to integer\n",
        "  elif type(element) == float:\n",
        "    new_list.append(int(element))  # Convert float to integer\n",
        "  elif type(element) == bool:\n",
        "    new_list.append(int(element))  # Convert boolean to integer\n",
        "  else:\n",
        "    new_list.append(element)\n",
        "\n",
        "print(\"Original list:\", my_list)\n",
        "print(\"List after type casting:\", new_list)\n",
        "\n"
      ],
      "metadata": {
        "id": "va6VyUV8pwj8"
      },
      "execution_count": null,
      "outputs": []
    },
    {
      "cell_type": "code",
      "source": [
        "# Write code to demonstrate type casting with list elements\n",
        "\n",
        "my_list = [1, '2', 3.0, True]\n",
        "\n",
        "# Type casting list elements\n",
        "new_list = []\n",
        "for element in my_list:\n",
        "  if type(element) == str:\n",
        "    new_list.append(int(element))  # Convert string to integer\n",
        "  elif type(element) == float:\n",
        "    new_list.append(int(element))  # Convert float to integer\n",
        "  elif type(element) == bool:\n",
        "    new_list.append(int(element))  # Convert boolean to integer\n",
        "  else:\n",
        "    new_list.append(element)\n",
        "\n",
        "print(\"Original list:\", my_list)\n",
        "print(\"List after type casting:\", new_list)\n",
        "\n"
      ],
      "metadata": {
        "id": "Qo2MHXK8p8ya"
      },
      "execution_count": null,
      "outputs": []
    },
    {
      "cell_type": "code",
      "source": [
        "# Write a program that checks if a number is positive, negative, or zero\n",
        "\n",
        "a = (input(\"enter a number: \"))\n",
        "b = int(a)\n",
        "if b < 0:\n",
        "  print(\"negative\")\n",
        "elif b == 0:\n",
        "  print(\"Zero\")\n",
        "else:\n",
        "    print(\"positive\")"
      ],
      "metadata": {
        "id": "V7vOnoIpqIsM"
      },
      "execution_count": null,
      "outputs": []
    },
    {
      "cell_type": "code",
      "source": [
        "# Write a for loop to print numbers from 1 to 10\n",
        "\n",
        "for a in range (1, 11):\n",
        "  print(a, end=\" \")"
      ],
      "metadata": {
        "id": "yTtw9F18qPey"
      },
      "execution_count": null,
      "outputs": []
    },
    {
      "cell_type": "code",
      "source": [
        "# Write a Python program to find the sum of all even numbers between 1 and 50\n",
        "sum = 0\n",
        "for i in range (1, 51):\n",
        "  if i % 2 == 0:\n",
        "    print(i, end=\" \")\n",
        "    sum = sum + i\n",
        "print(f\"\\nsum is {sum}\")"
      ],
      "metadata": {
        "id": "_2yg9JhrqWNw"
      },
      "execution_count": null,
      "outputs": []
    },
    {
      "cell_type": "code",
      "source": [
        "#  Write a program to reverse a string using a while loop\n",
        "\n",
        "string = \"Hello, World!\"\n",
        "\n",
        "reversed_string = \"\"\n",
        "i = len(string) - 1\n",
        "\n",
        "while i >= 0:\n",
        "    reversed_string += string[i]\n",
        "    i -= 1\n",
        "print(\"Reversed String:\", reversed_string)\n",
        ""
      ],
      "metadata": {
        "id": "W6J6fk7mqbws"
      },
      "execution_count": null,
      "outputs": []
    },
    {
      "cell_type": "code",
      "source": [
        "\n",
        "# Write a Python program to calculate the factorial of a number provided by the user using a while loop\n",
        "def factorial(n):\n",
        "  if n < 0:\n",
        "    return\n",
        "  elif n == 0:\n",
        "    return 1\n",
        "  else:\n",
        "    fact = 1\n",
        "    while n > 1:\n",
        "      fact *= n\n",
        "      n -= 1\n",
        "    return fact\n",
        "\n",
        "\n",
        "num = int(input(\"Enter a non-negative integer: \"))\n",
        "result = factorial(num)\n",
        "print(f\"The factorial of {num} is {result}\")\n",
        ""
      ],
      "metadata": {
        "id": "yFXNsbCdqhBl"
      },
      "execution_count": null,
      "outputs": []
    },
    {
      "cell_type": "code",
      "source": [
        "# prompt: Write a Python program to calculate the factorial of a number provided by the user using a while loop\n",
        "\n",
        "def factorial(n):\n",
        "  \"\"\"Calculates the factorial of a non-negative integer.\n",
        "\n",
        "  Args:\n",
        "    n: The non-negative integer.\n",
        "\n",
        "  Returns:\n",
        "    The factorial of n.\n",
        "  \"\"\"\n",
        "  if n < 0:\n",
        "    return \"Factorial is not defined for negative numbers\"\n",
        "  elif n == 0:\n",
        "    return 1\n",
        "  else:\n",
        "    fact = 1\n",
        "    while n > 1:\n",
        "      fact *= n\n",
        "      n -= 1\n",
        "    return fact\n",
        "\n",
        "\n",
        "num = int(input(\"Enter a non-negative integer: \"))\n",
        "result = factorial(num)\n",
        "print(f\"The factorial of {num} is {result}\")\n"
      ],
      "metadata": {
        "id": "iICQM--oqoeN"
      },
      "execution_count": null,
      "outputs": []
    },
    {
      "cell_type": "code",
      "source": [],
      "metadata": {
        "id": "g-0TYG7iqxen"
      },
      "execution_count": null,
      "outputs": []
    }
  ]
}